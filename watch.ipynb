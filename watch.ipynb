{
 "cells": [
  {
   "cell_type": "code",
   "execution_count": null,
   "metadata": {},
   "outputs": [],
   "source": [
    "import pandas as pd\n",
    "import numpy as np\n",
    "\n",
    "# Load movie data\n",
    "movies_df = pd.read_csv('movies.csv')\n",
    "# Assuming movies.csv has columns 'movieId' and 'title'\n",
    "movies = movies_df[['movieId', 'title']]\n",
    "\n",
    "# Load ratings data\n",
    "ratings_df = pd.read_csv('ratings.csv')\n",
    "# Assuming ratings.csv has columns 'userId', 'movieId', and 'rating'\n",
    "ratings = ratings_df[['userId', 'movieId', 'rating']]\n",
    "\n",
    "# Merge movie and ratings data\n",
    "df = pd.merge(ratings, movies, on='movieId')\n",
    "\n",
    "# Create a user-item matrix\n",
    "user_item_matrix = df.pivot_table(index='userId', columns='title', values='rating', fill_value=0)\n",
    "\n",
    "# Calculate item-item similarity (cosine similarity)\n",
    "item_similarity = np.dot(user_item_matrix.T, user_item_matrix) / (np.linalg.norm(user_item_matrix.T, axis=1) * np.linalg.norm(user_item_matrix, axis=0))\n",
    "\n",
    "# Make predictions for the test set (just a basic example, you might need to adjust based on your requirements)\n",
    "def predict_ratings(user_item_matrix, item_similarity, user_id):\n",
    "    user_ratings = user_item_matrix.loc[user_id]\n",
    "    weighted_sum = np.dot(item_similarity, user_ratings)\n",
    "    norm_sum = np.dot(np.abs(item_similarity), (user_ratings > 0).astype(int))\n",
    "    predicted_ratings = np.divide(weighted_sum, norm_sum, out=np.zeros_like(weighted_sum), where=norm_sum != 0)\n",
    "    return predicted_ratings\n",
    "\n",
    "# Example: Get top N recommendations for user 1\n",
    "user_id = 1\n",
    "predicted_ratings = predict_ratings(user_item_matrix, item_similarity, user_id)\n",
    "top_n_indices = np.argsort(predicted_ratings)[::-1][:5]  # Get indices of top 5 movies\n",
    "top_n_movies = user_item_matrix.columns[top_n_indices].tolist()\n",
    "\n",
    "print(f\"Top 5 recommendations for User {user_id}: {top_n_movies}\")\n"
   ]
  },
  {
   "cell_type": "code",
   "execution_count": null,
   "metadata": {},
   "outputs": [],
   "source": []
  }
 ],
 "metadata": {
  "kernelspec": {
   "display_name": "Python 3",
   "language": "python",
   "name": "python3"
  },
  "language_info": {
   "codemirror_mode": {
    "name": "ipython",
    "version": 3
   },
   "file_extension": ".py",
   "mimetype": "text/x-python",
   "name": "python",
   "nbconvert_exporter": "python",
   "pygments_lexer": "ipython3",
   "version": "3.11.2"
  }
 },
 "nbformat": 4,
 "nbformat_minor": 2
}
