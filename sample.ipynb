{
 "cells": [
  {
   "cell_type": "code",
   "execution_count": 9,
   "metadata": {},
   "outputs": [
    {
     "name": "stdout",
     "output_type": "stream",
     "text": [
      "Top 5 recommendations for Avengers, The (2012):\n",
      "1. Guardians of the Galaxy (2014)\n",
      "2. Iron Man 2 (2010)\n",
      "3. Iron Man (2008)\n",
      "4. X-Men: First Class (2011)\n",
      "5. Captain America: The Winter Soldier (2014)\n"
     ]
    }
   ],
   "source": [
    "import numpy as np\n",
    "import pandas as pd\n",
    "from sklearn.metrics.pairwise import cosine_similarity\n",
    "from sklearn.feature_extraction.text import CountVectorizer\n",
    "\n",
    "\n",
    "movies = pd.read_csv('movies.csv')\n",
    "ratings = pd.read_csv('ratings.csv')\n",
    "\n",
    "data = pd.merge(ratings, movies, on='movieId')\n",
    "\n",
    "user_item_matrix = data.pivot_table(index='userId', columns='title', values='rating', fill_value=0)\n",
    "\n",
    "movie_similarity = cosine_similarity(user_item_matrix.T)\n",
    "\n",
    "def get_top_n_recommendations(movie_title, n=5):\n",
    "    movie_idx = list(user_item_matrix.columns).index(movie_title)\n",
    "    similar_scores = movie_similarity[movie_idx]\n",
    "    similar_movies = list(user_item_matrix.columns[np.argsort(similar_scores)[::-1]])[1:n+1]\n",
    "    \n",
    "    return similar_movies\n",
    "\n",
    "movie_title_to_recommend = 'Avengers, The (2012)'\n",
    "recommendations = get_top_n_recommendations(movie_title_to_recommend)\n",
    "\n",
    "print(f\"Top 5 recommendations for {movie_title_to_recommend}:\")\n",
    "for i, movie_title in enumerate(recommendations, start=1):\n",
    "    print(f\"{i}. {movie_title}\")\n"
   ]
  },
  {
   "cell_type": "code",
   "execution_count": 12,
   "metadata": {},
   "outputs": [
    {
     "name": "stdout",
     "output_type": "stream",
     "text": [
      "Top 5 recommendations for Avengers, The (2012):\n",
      "1. Guardians of the Galaxy (2014)\n",
      "2. Iron Man 2 (2010)\n",
      "3. Iron Man (2008)\n",
      "4. X-Men: First Class (2011)\n",
      "5. Captain America: The Winter Soldier (2014)\n"
     ]
    }
   ],
   "source": [
    "import pandas as pd\n",
    "import numpy as np\n",
    "from sklearn.metrics.pairwise import cosine_similarity\n",
    "from sklearn.feature_extraction.text import CountVectorizer\n",
    "from sklearn.preprocessing import MinMaxScaler\n",
    "\n",
    "movies = pd.read_csv('movies.csv')\n",
    "ratings = pd.read_csv('ratings.csv')\n",
    "\n",
    "data = pd.merge(ratings, movies, on='movieId')\n",
    "\n",
    "user_item_matrix = data.pivot_table(index='userId', columns='title', values='rating', fill_value=0)\n",
    "\n",
    "movie_similarity_ratings = cosine_similarity(user_item_matrix.T)\n",
    "\n",
    "genre_matrix = pd.get_dummies(movies['genres'])\n",
    "movie_features_matrix = pd.concat([movies[['movieId']], genre_matrix], axis=1).set_index('movieId')\n",
    "\n",
    "scaler = MinMaxScaler()\n",
    "scaled_genre_matrix = scaler.fit_transform(movie_features_matrix)\n",
    "\n",
    "num_movies = min(movie_similarity_ratings.shape[0], scaled_genre_matrix.shape[0])\n",
    "movie_similarity_ratings = movie_similarity_ratings[:num_movies, :num_movies]\n",
    "scaled_genre_matrix = scaled_genre_matrix[:num_movies, :]\n",
    "\n",
    "movie_similarity_genres = cosine_similarity(scaled_genre_matrix)\n",
    "\n",
    "alpha = 0.5\n",
    "movie_similarity_combined = alpha * movie_similarity_ratings + (1 - alpha) * movie_similarity_genres\n",
    "\n",
    "def get_top_n_recommendations(movie_title, n=5):\n",
    "    movie_idx = list(user_item_matrix.columns).index(movie_title)\n",
    "    similar_scores = movie_similarity_combined[movie_idx]\n",
    "    similar_movies = list(user_item_matrix.columns[np.argsort(similar_scores)[::-1]])[1:n+1]\n",
    "    \n",
    "    return similar_movies\n",
    "\n",
    "movie_title_to_recommend = 'Avengers, The (2012)'\n",
    "recommendations = get_top_n_recommendations(movie_title_to_recommend)\n",
    "\n",
    "print(f\"Top 5 recommendations for {movie_title_to_recommend}:\")\n",
    "for i, movie_title in enumerate(recommendations, start=1):\n",
    "    print(f\"{i}. {movie_title}\")\n"
   ]
  },
  {
   "cell_type": "code",
   "execution_count": null,
   "metadata": {},
   "outputs": [],
   "source": []
  }
 ],
 "metadata": {
  "kernelspec": {
   "display_name": "Python 3",
   "language": "python",
   "name": "python3"
  },
  "language_info": {
   "codemirror_mode": {
    "name": "ipython",
    "version": 3
   },
   "file_extension": ".py",
   "mimetype": "text/x-python",
   "name": "python",
   "nbconvert_exporter": "python",
   "pygments_lexer": "ipython3",
   "version": "3.11.2"
  }
 },
 "nbformat": 4,
 "nbformat_minor": 2
}
