{
 "cells": [
  {
   "cell_type": "code",
   "execution_count": 4,
   "metadata": {},
   "outputs": [
    {
     "name": "stdout",
     "output_type": "stream",
     "text": [
      "Top 5 recommendations for User ID 4:\n",
      "1. 12 Angry Men (1957)\n",
      "2. Adventures of Priscilla, Queen of the Desert, The (1994)\n",
      "3. Afterglow (1997)\n",
      "4. Airplane! (1980)\n",
      "5. Aladdin (1992)\n"
     ]
    }
   ],
   "source": [
    "import pandas as pd\n",
    "import numpy as np\n",
    "from sklearn.metrics.pairwise import cosine_similarity\n",
    "from sklearn.preprocessing import MinMaxScaler\n",
    "\n",
    "movies = pd.read_csv('movies.csv')\n",
    "ratings = pd.read_csv('ratings.csv')\n",
    "\n",
    "target_user_id = 4\n",
    "\n",
    "user_ratings = ratings[ratings['userId'] == target_user_id]\n",
    "data = pd.merge(user_ratings, movies, on='movieId')\n",
    "\n",
    "user_item_matrix = data.pivot_table(index='userId', columns='title', values='rating', fill_value=0)\n",
    "\n",
    "user_similarity = cosine_similarity(user_item_matrix)\n",
    "\n",
    "target_user_watch_history = user_item_matrix.loc[target_user_id].values.reshape(1, -1)\n",
    "user_similarity_to_target = cosine_similarity(target_user_watch_history, user_item_matrix)\n",
    "\n",
    "similar_users = list(user_item_matrix.index[np.argsort(user_similarity_to_target[0])[::-1]])[1:]\n",
    "\n",
    "def get_top_n_recommendations(user_item_matrix, similar_users, n=5):\n",
    "    aggregated_watch_history = user_item_matrix.loc[similar_users].sum(axis=0)\n",
    "    unwatched_movies = aggregated_watch_history.index[aggregated_watch_history == 0]\n",
    "    top_n_recommendations = unwatched_movies[:n]\n",
    "    return top_n_recommendations\n",
    "\n",
    "recommendations = get_top_n_recommendations(user_item_matrix, similar_users)\n",
    "\n",
    "print(f\"Top 5 recommendations for User ID {target_user_id}:\")\n",
    "for i, movie_title in enumerate(recommendations, start=1):\n",
    "    print(f\"{i}. {movie_title}\")\n"
   ]
  },
  {
   "cell_type": "code",
   "execution_count": null,
   "metadata": {},
   "outputs": [],
   "source": []
  }
 ],
 "metadata": {
  "kernelspec": {
   "display_name": "Python 3",
   "language": "python",
   "name": "python3"
  },
  "language_info": {
   "codemirror_mode": {
    "name": "ipython",
    "version": 3
   },
   "file_extension": ".py",
   "mimetype": "text/x-python",
   "name": "python",
   "nbconvert_exporter": "python",
   "pygments_lexer": "ipython3",
   "version": "3.11.2"
  }
 },
 "nbformat": 4,
 "nbformat_minor": 2
}
